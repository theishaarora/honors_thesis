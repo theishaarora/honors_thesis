{
 "cells": [
  {
   "cell_type": "code",
   "execution_count": 1,
   "metadata": {},
   "outputs": [
    {
     "ename": "ModuleNotFoundError",
     "evalue": "No module named 'causalinference'",
     "output_type": "error",
     "traceback": [
      "\u001b[0;31m---------------------------------------------------------------------------\u001b[0m",
      "\u001b[0;31mModuleNotFoundError\u001b[0m                       Traceback (most recent call last)",
      "\u001b[0;32m<ipython-input-1-dbc7e6842c87>\u001b[0m in \u001b[0;36m<module>\u001b[0;34m\u001b[0m\n\u001b[1;32m      1\u001b[0m \u001b[0;32mimport\u001b[0m \u001b[0mpandas\u001b[0m \u001b[0;32mas\u001b[0m \u001b[0mpd\u001b[0m\u001b[0;34m\u001b[0m\u001b[0;34m\u001b[0m\u001b[0m\n\u001b[1;32m      2\u001b[0m \u001b[0;32mimport\u001b[0m \u001b[0mnumpy\u001b[0m \u001b[0;32mas\u001b[0m \u001b[0mnp\u001b[0m\u001b[0;34m\u001b[0m\u001b[0;34m\u001b[0m\u001b[0m\n\u001b[0;32m----> 3\u001b[0;31m \u001b[0;32mfrom\u001b[0m \u001b[0mcausalinference\u001b[0m \u001b[0;32mimport\u001b[0m \u001b[0mCausalModel\u001b[0m\u001b[0;34m\u001b[0m\u001b[0;34m\u001b[0m\u001b[0m\n\u001b[0m",
      "\u001b[0;31mModuleNotFoundError\u001b[0m: No module named 'causalinference'"
     ]
    }
   ],
   "source": [
    "import pandas as pd\n",
    "import numpy as np\n",
    "from causalinference import CausalModel"
   ]
  },
  {
   "cell_type": "code",
   "execution_count": 2,
   "metadata": {},
   "outputs": [],
   "source": [
    "psm_india = pd.read_csv(\"C:/Users/suraj/Downloads/Rwi_cellular_dhs_2019.csv\")\n",
    "psm_peru = pd.read_csv(\"C:/Users/suraj/Downloads/rwi_cellular_census_2019.csv\", index_col = 0)"
   ]
  },
  {
   "cell_type": "markdown",
   "metadata": {},
   "source": [
    "#### India"
   ]
  },
  {
   "cell_type": "code",
   "execution_count": 21,
   "metadata": {},
   "outputs": [],
   "source": [
    "def get_data(df, \n",
    "             xcols = ['sum_male_1',\n",
    "       'sum_female_2', 'male:female', 'sum_ages', 'hv206', 'hv213', 'hv216'], \n",
    "             ycol = 'rwi',\n",
    "             dcol = 'Binary Value'):\n",
    "    \n",
    "    X = df[xcols].values\n",
    "\n",
    "    Y = df[[ycol]].values\n",
    "\n",
    "    D = df[[dcol]].values\n",
    "    \n",
    "    return X, Y, D\n",
    "\n",
    "def run_psm(X, Y, D):\n",
    "    #create causal model\n",
    "    causal = CausalModel(Y, D, X)\n",
    "    \n",
    "    #Estimate propensity score\n",
    "    causal.est_propensity_s()\n",
    "    print(causal.propensity)\n",
    "    \n",
    "    \n",
    "    causal.cutoff\n",
    "    causal.trim_s()\n",
    "    print(causal.summary_stats)\n",
    "    causal.stratify_s()\n",
    "    print(causal.strata)\n",
    "\n",
    "    try:\n",
    "        for stratum in causal.strata:\n",
    "            stratum.est_via_ols(adj=1)\n",
    "            \n",
    "        [stratum.estimates['ols']['ate'] for stratum in causal.strata]\n",
    "    except:\n",
    "        print('Error in stratum results')\n",
    "\n",
    "   \n",
    "\n",
    "\n",
    "    causal.est_via_ols()\n",
    "    causal.est_via_weighting()\n",
    "    causal.est_via_blocking()\n",
    "    causal.est_via_matching(bias_adj = True)\n",
    "    print(causal.estimates)"
   ]
  },
  {
   "cell_type": "code",
   "execution_count": 6,
   "metadata": {},
   "outputs": [],
   "source": [
    "X_india, y_india, D_india = get_data(psm_india)"
   ]
  },
  {
   "cell_type": "code",
   "execution_count": 22,
   "metadata": {},
   "outputs": [
    {
     "name": "stdout",
     "output_type": "stream",
     "text": [
      "\n",
      "Estimated Parameters of Propensity Score\n",
      "\n",
      "                    Coef.       S.e.          z      P>|z|      [95% Conf. int.]\n",
      "--------------------------------------------------------------------------------\n",
      "     Intercept      7.525      6.717      1.120      0.263     -5.642     20.691\n",
      "            X6     -1.720      4.295     -0.400      0.689    -10.138      6.699\n",
      "            X3      0.030      0.154      0.193      0.847     -0.273      0.332\n",
      "            X0     -0.006      0.002     -3.553      0.000     -0.010     -0.003\n",
      "            X4     -0.003      0.001     -2.237      0.025     -0.005     -0.000\n",
      "         X3*X0      0.000      0.000      4.334      0.000      0.000      0.000\n",
      "         X6*X3     -0.190      0.066     -2.876      0.004     -0.319     -0.060\n",
      "         X6*X6      1.592      0.798      1.996      0.046      0.028      3.156\n",
      "\n",
      "\n",
      "Summary Statistics\n",
      "\n",
      "                       Controls (N_c=304)         Treated (N_t=297)             \n",
      "       Variable         Mean         S.d.         Mean         S.d.     Raw-diff\n",
      "--------------------------------------------------------------------------------\n",
      "              Y        0.001        0.340       -0.118        0.241       -0.119\n",
      "\n",
      "                       Controls (N_c=304)         Treated (N_t=297)             \n",
      "       Variable         Mean         S.d.         Mean         S.d.     Nor-diff\n",
      "--------------------------------------------------------------------------------\n",
      "             X0     2042.141      442.847     1994.155      386.563       -0.115\n",
      "             X1     2085.178      471.242     2026.677      368.766       -0.138\n",
      "             X2        0.983        0.073        0.984        0.063        0.010\n",
      "             X3       31.577        4.533       32.774        3.998        0.280\n",
      "             X4      878.230      111.069      874.721       97.208       -0.034\n",
      "             X5    23026.924     5109.814    23514.508     5041.576        0.096\n",
      "             X6        2.022        0.305        1.878        0.303       -0.476\n",
      "\n",
      "\n",
      "Stratification Summary\n",
      "\n",
      "              Propensity Score         Sample Size     Ave. Propensity   Outcome\n",
      "   Stratum      Min.      Max.  Controls   Treated  Controls   Treated  Raw-diff\n",
      "--------------------------------------------------------------------------------\n",
      "         1     0.132     0.474       196       105     0.357     0.370    -0.053\n",
      "         2     0.474     0.612        73        77     0.537     0.541    -0.253\n",
      "         3     0.612     0.865        35       115     0.702     0.716    -0.191\n",
      "\n",
      "\n",
      "Treatment Effect Estimates: OLS\n",
      "\n",
      "                     Est.       S.e.          z      P>|z|      [95% Conf. int.]\n",
      "--------------------------------------------------------------------------------\n",
      "           ATE     -0.131      0.021     -6.315      0.000     -0.171     -0.090\n",
      "           ATC     -0.118      0.022     -5.471      0.000     -0.160     -0.076\n",
      "           ATT     -0.144      0.021     -6.797      0.000     -0.186     -0.103\n",
      "\n",
      "Treatment Effect Estimates: Weighting\n",
      "\n",
      "                     Est.       S.e.          z      P>|z|      [95% Conf. int.]\n",
      "--------------------------------------------------------------------------------\n",
      "           ATE     -0.070      0.024     -2.958      0.003     -0.116     -0.024\n",
      "\n",
      "Treatment Effect Estimates: Blocking\n",
      "\n",
      "                     Est.       S.e.          z      P>|z|      [95% Conf. int.]\n",
      "--------------------------------------------------------------------------------\n",
      "           ATE     -0.094      0.020     -4.702      0.000     -0.133     -0.055\n",
      "           ATC     -0.090      0.020     -4.425      0.000     -0.130     -0.050\n",
      "           ATT     -0.098      0.022     -4.489      0.000     -0.141     -0.055\n",
      "\n",
      "Treatment Effect Estimates: Matching\n",
      "\n",
      "                     Est.       S.e.          z      P>|z|      [95% Conf. int.]\n",
      "--------------------------------------------------------------------------------\n",
      "           ATE     -0.081      0.035     -2.323      0.020     -0.149     -0.013\n",
      "           ATC     -0.017      0.041     -0.425      0.671     -0.098      0.063\n",
      "           ATT     -0.146      0.041     -3.571      0.000     -0.226     -0.066\n",
      "\n"
     ]
    },
    {
     "name": "stderr",
     "output_type": "stream",
     "text": [
      "C:\\Users\\suraj\\anaconda3\\lib\\site-packages\\causalinference\\estimators\\ols.py:21: FutureWarning: `rcond` parameter will change to the default of machine precision times ``max(M, N)`` where M and N are the input matrix dimensions.\n",
      "To use the future default and silence this warning we advise to pass `rcond=None`, to keep using the old, explicitly pass `rcond=-1`.\n",
      "  olscoef = np.linalg.lstsq(Z, Y)[0]\n",
      "C:\\Users\\suraj\\anaconda3\\lib\\site-packages\\causalinference\\estimators\\weighting.py:23: FutureWarning: `rcond` parameter will change to the default of machine precision times ``max(M, N)`` where M and N are the input matrix dimensions.\n",
      "To use the future default and silence this warning we advise to pass `rcond=None`, to keep using the old, explicitly pass `rcond=-1`.\n",
      "  wlscoef = np.linalg.lstsq(Z_w, Y_w)[0]\n",
      "C:\\Users\\suraj\\anaconda3\\lib\\site-packages\\causalinference\\estimators\\matching.py:100: FutureWarning: `rcond` parameter will change to the default of machine precision times ``max(M, N)`` where M and N are the input matrix dimensions.\n",
      "To use the future default and silence this warning we advise to pass `rcond=None`, to keep using the old, explicitly pass `rcond=-1`.\n",
      "  return np.linalg.lstsq(X, Y)[0][1:]  # don't need intercept coef\n"
     ]
    }
   ],
   "source": [
    "run_psm(X_india, y_india, D_india)"
   ]
  },
  {
   "cell_type": "markdown",
   "metadata": {},
   "source": [
    "#### Peru"
   ]
  },
  {
   "cell_type": "code",
   "execution_count": 11,
   "metadata": {},
   "outputs": [
    {
     "data": {
      "text/plain": [
       "Index(['District', 'avg_d_mbps_Q1', 'avg_d_mbps_Q2', 'avg_d_mbps_Q3',\n",
       "       'avg_d_mbps_Q4', 'rwi', 'avg_d_mbps_qs', 'Gas Stove -Yes',\n",
       "       'Refrigerator/Freezer', 'Clothes washer', 'Car/van/autombile',\n",
       "       'Motorcycle', 'Cellular Phone', 'No Cable/satellite Tv', 'Average Age',\n",
       "       'Binary Value'],\n",
       "      dtype='object')"
      ]
     },
     "execution_count": 11,
     "metadata": {},
     "output_type": "execute_result"
    }
   ],
   "source": [
    "psm_peru.columns"
   ]
  },
  {
   "cell_type": "code",
   "execution_count": 24,
   "metadata": {},
   "outputs": [],
   "source": [
    "X_peru, y_peru, D_peru = get_data(psm_peru, \n",
    "                                 xcols = [\n",
    "       'Refrigerator/Freezer', 'Clothes washer', 'Car/van/autombile',\n",
    "       'Motorcycle', 'Cellular Phone', 'No Cable/satellite Tv', 'Average Age'], \n",
    "                                 ycol = 'rwi', \n",
    "                                 dcol = 'Binary Value')"
   ]
  },
  {
   "cell_type": "code",
   "execution_count": 25,
   "metadata": {},
   "outputs": [
    {
     "name": "stdout",
     "output_type": "stream",
     "text": [
      "\n",
      "Estimated Parameters of Propensity Score\n",
      "\n",
      "                    Coef.       S.e.          z      P>|z|      [95% Conf. int.]\n",
      "--------------------------------------------------------------------------------\n",
      "     Intercept     -1.433      0.850     -1.686      0.092     -3.100      0.233\n",
      "            X1      0.000      0.000      0.126      0.900     -0.000      0.000\n",
      "            X5     -0.000      0.000     -0.815      0.415     -0.000      0.000\n",
      "            X6      0.050      0.026      1.898      0.058     -0.002      0.102\n",
      "            X0      0.001      0.000      3.306      0.001      0.000      0.001\n",
      "            X4     -0.001      0.000     -2.917      0.004     -0.001     -0.000\n",
      "            X2     -0.002      0.001     -1.866      0.062     -0.005      0.000\n",
      "            X3      0.001      0.001      1.785      0.074     -0.000      0.003\n",
      "         X6*X2      0.000      0.000      2.154      0.031      0.000      0.000\n",
      "         X6*X3     -0.000      0.000     -1.648      0.099     -0.000      0.000\n",
      "\n",
      "\n",
      "Summary Statistics\n",
      "\n",
      "                       Controls (N_c=389)         Treated (N_t=390)             \n",
      "       Variable         Mean         S.d.         Mean         S.d.     Raw-diff\n",
      "--------------------------------------------------------------------------------\n",
      "              Y       -0.232        0.315       -0.030        0.429        0.202\n",
      "\n",
      "                       Controls (N_c=389)         Treated (N_t=390)             \n",
      "       Variable         Mean         S.d.         Mean         S.d.     Nor-diff\n",
      "--------------------------------------------------------------------------------\n",
      "             X0     3882.245     8858.527     8969.701    23145.734        0.290\n",
      "             X1      928.588     3345.542     4156.935    12730.364        0.347\n",
      "             X2      466.007     1398.863     1770.118     5293.138        0.337\n",
      "             X3      708.670     1573.464     1004.297     2020.395        0.163\n",
      "             X4     4395.245     8782.131     9044.708    22246.119        0.275\n",
      "             X5     3914.012     6210.986     5352.142    10621.051        0.165\n",
      "             X6       31.130        3.126       32.109        3.337        0.303\n",
      "\n",
      "\n",
      "Stratification Summary\n",
      "\n",
      "              Propensity Score         Sample Size     Ave. Propensity   Outcome\n",
      "   Stratum      Min.      Max.  Controls   Treated  Controls   Treated  Raw-diff\n",
      "--------------------------------------------------------------------------------\n",
      "         1     0.016     0.431       134        62     0.325     0.343     0.080\n",
      "         2     0.431     0.499       104        90     0.467     0.470     0.049\n",
      "         3     0.500     0.554        94       101     0.525     0.527     0.080\n",
      "         4     0.554     0.597        39        58     0.573     0.575     0.077\n",
      "         5     0.599     1.000        18        79     0.696     0.804     0.276\n",
      "\n",
      "\n",
      "Treatment Effect Estimates: OLS\n",
      "\n",
      "                     Est.       S.e.          z      P>|z|      [95% Conf. int.]\n",
      "--------------------------------------------------------------------------------\n",
      "           ATE      0.066      0.029      2.263      0.024      0.009      0.124\n",
      "           ATC      0.079      0.021      3.683      0.000      0.037      0.121\n",
      "           ATT      0.053      0.045      1.187      0.235     -0.035      0.142\n",
      "\n",
      "Treatment Effect Estimates: Weighting\n",
      "\n",
      "                     Est.       S.e.          z      P>|z|      [95% Conf. int.]\n",
      "--------------------------------------------------------------------------------\n",
      "           ATE      0.058      0.024      2.435      0.015      0.011      0.104\n",
      "\n",
      "Treatment Effect Estimates: Blocking\n",
      "\n",
      "                     Est.       S.e.          z      P>|z|      [95% Conf. int.]\n",
      "--------------------------------------------------------------------------------\n",
      "           ATE      0.066      0.021      3.154      0.002      0.025      0.106\n",
      "           ATC      0.053      0.018      2.912      0.004      0.017      0.089\n",
      "           ATT      0.078      0.026      3.020      0.003      0.027      0.129\n",
      "\n",
      "Treatment Effect Estimates: Matching\n",
      "\n",
      "                     Est.       S.e.          z      P>|z|      [95% Conf. int.]\n",
      "--------------------------------------------------------------------------------\n",
      "           ATE      0.063      0.034      1.863      0.063     -0.003      0.130\n",
      "           ATC      0.038      0.040      0.946      0.344     -0.041      0.117\n",
      "           ATT      0.088      0.037      2.369      0.018      0.015      0.162\n",
      "\n"
     ]
    },
    {
     "name": "stderr",
     "output_type": "stream",
     "text": [
      "C:\\Users\\suraj\\anaconda3\\lib\\site-packages\\causalinference\\causal.py:165: RuntimeWarning: divide by zero encountered in true_divide\n",
      "  g = 1.0/(pscore*(1-pscore))  # 1 over Bernoulli variance\n",
      "C:\\Users\\suraj\\anaconda3\\lib\\site-packages\\causalinference\\causal.py:224: RuntimeWarning: divide by zero encountered in true_divide\n",
      "  logodds = np.log(pscore / (1-pscore))\n",
      "C:\\Users\\suraj\\anaconda3\\lib\\site-packages\\numpy\\core\\_methods.py:232: RuntimeWarning: invalid value encountered in subtract\n",
      "  x = asanyarray(arr - arrmean)\n",
      "C:\\Users\\suraj\\anaconda3\\lib\\site-packages\\causalinference\\estimators\\ols.py:21: FutureWarning: `rcond` parameter will change to the default of machine precision times ``max(M, N)`` where M and N are the input matrix dimensions.\n",
      "To use the future default and silence this warning we advise to pass `rcond=None`, to keep using the old, explicitly pass `rcond=-1`.\n",
      "  olscoef = np.linalg.lstsq(Z, Y)[0]\n",
      "C:\\Users\\suraj\\anaconda3\\lib\\site-packages\\causalinference\\estimators\\weighting.py:23: FutureWarning: `rcond` parameter will change to the default of machine precision times ``max(M, N)`` where M and N are the input matrix dimensions.\n",
      "To use the future default and silence this warning we advise to pass `rcond=None`, to keep using the old, explicitly pass `rcond=-1`.\n",
      "  wlscoef = np.linalg.lstsq(Z_w, Y_w)[0]\n",
      "C:\\Users\\suraj\\anaconda3\\lib\\site-packages\\causalinference\\estimators\\matching.py:100: FutureWarning: `rcond` parameter will change to the default of machine precision times ``max(M, N)`` where M and N are the input matrix dimensions.\n",
      "To use the future default and silence this warning we advise to pass `rcond=None`, to keep using the old, explicitly pass `rcond=-1`.\n",
      "  return np.linalg.lstsq(X, Y)[0][1:]  # don't need intercept coef\n"
     ]
    }
   ],
   "source": [
    "run_psm(X_peru, y_peru, D_peru)"
   ]
  }
 ],
 "metadata": {
  "kernelspec": {
   "display_name": "Python 3",
   "language": "python",
   "name": "python3"
  },
  "language_info": {
   "codemirror_mode": {
    "name": "ipython",
    "version": 3
   },
   "file_extension": ".py",
   "mimetype": "text/x-python",
   "name": "python",
   "nbconvert_exporter": "python",
   "pygments_lexer": "ipython3",
   "version": "3.9.5"
  }
 },
 "nbformat": 4,
 "nbformat_minor": 4
}
